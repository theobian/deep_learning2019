{
 "cells": [
  {
   "cell_type": "code",
   "execution_count": 1,
   "metadata": {},
   "outputs": [],
   "source": [
    "import torch\n",
    "import torch.nn as nn\n",
    "from torch.autograd import Variable\n",
    "from torch.nn import functional as F\n",
    "import dlc_practical_prologue as prologue"
   ]
  },
  {
   "cell_type": "code",
   "execution_count": 16,
   "metadata": {},
   "outputs": [
    {
     "name": "stderr",
     "output_type": "stream",
     "text": [
      "/anaconda3/lib/python3.6/site-packages/torchvision/datasets/mnist.py:53: UserWarning: train_data has been renamed data\n",
      "  warnings.warn(\"train_data has been renamed data\")\n",
      "/anaconda3/lib/python3.6/site-packages/torchvision/datasets/mnist.py:43: UserWarning: train_labels has been renamed targets\n",
      "  warnings.warn(\"train_labels has been renamed targets\")\n",
      "/anaconda3/lib/python3.6/site-packages/torchvision/datasets/mnist.py:58: UserWarning: test_data has been renamed data\n",
      "  warnings.warn(\"test_data has been renamed data\")\n",
      "/anaconda3/lib/python3.6/site-packages/torchvision/datasets/mnist.py:48: UserWarning: test_labels has been renamed targets\n",
      "  warnings.warn(\"test_labels has been renamed targets\")\n"
     ]
    }
   ],
   "source": [
    "#Number of pairs\n",
    "N = 2000\n",
    "#Loading data\n",
    "pre_train_input, train_target, train_classes, pre_test_input, test_target, test_classes = \\\n",
    "prologue.generate_pair_sets(N)"
   ]
  },
  {
   "cell_type": "code",
   "execution_count": 14,
   "metadata": {},
   "outputs": [
    {
     "data": {
      "text/plain": [
       "torch.Size([2000, 1, 28, 14])"
      ]
     },
     "execution_count": 14,
     "metadata": {},
     "output_type": "execute_result"
    }
   ],
   "source": [
    "\"\"\"train_input = torch.rand(N,1,28,14)\n",
    "test_input = torch.rand(N,1,28,14)\n",
    "for i in range(N):\n",
    "    temp_train = torch.cat((pre_train_input[i,0,:,:], pre_train_input[i,1,:,:]),0)\n",
    "    temp_test = torch.cat((pre_test_input[i,0,:,:], pre_test_input[i,1,:,:]),0)\n",
    "    train_input[i] = temp_train\n",
    "    test_input[i] = temp_test\n",
    "train_input.size()\"\"\""
   ]
  },
  {
   "cell_type": "code",
   "execution_count": 8,
   "metadata": {},
   "outputs": [],
   "source": [
    "class SiameseNet(nn.Module):\n",
    "    def __init__(self):\n",
    "        super().__init__()\n",
    "\n",
    "        self.conv1 = nn.Conv2d(1, 20, kernel_size=4)\n",
    "        self.conv2 = nn.Conv2d(20, 800, kernel_size=5)\n",
    "        self.fc1 = nn.Linear(2*2*800,150)\n",
    "        self.fc2 = nn.Linear(150, 10)\n",
    "        \n",
    "        self.binary = nn.Linear(20, 2) #take as input the 2 digit prediction and return a binary classification\n",
    "        \n",
    "    def forward(self, x):\n",
    "        # or use flatten\n",
    "        res = []\n",
    "        for i in range(2): #Siamese networks, shared weights\n",
    "            _x = x[:, i, :, :]\n",
    "            _x = F.relu(F.max_pool2d(self.conv1(_x), kernel_size = 3, stride = 3))\n",
    "            _x = F.relu(F.max_pool2d(self.conv2(_x), kernel_size = 2, stride = 2))\n",
    "            _x = self.fc1(_x.view(-1, 2*2*800))\n",
    "            _x = F.softmax(_x)\n",
    "            _x = self.fc2(_x)\n",
    "            res.append(F.softmax(_x))\n",
    "        res.view(-1,20)\n",
    "        x = self.binary(res)\n",
    "        \n",
    "        return x\n"
   ]
  },
  {
   "cell_type": "code",
   "execution_count": null,
   "metadata": {},
   "outputs": [],
   "source": [
    "def train(model, train_input, train_target, epochs, mini_batch_size):\n",
    "    \n",
    "    criterion = nn.BCELoss()\n",
    "    eta = 1e-1\n",
    "    \n",
    "    model.train()\n",
    "    \n",
    "    for e in range(epochs):\n",
    "        sum_loss = 0\n",
    "        for b in range (0, train_input.size(0),mini_batch_size):\n",
    "            output = model(train_input.narrow(0, b, mini_batch_size))\n",
    "            loss = criterion(output, train_target.narrow(0, b, mini_batch_size))\n",
    "            model.zero_grad()\n",
    "            loss.backward()\n",
    "            sum_loss = sum_loss + loss.item()\n",
    "            for p in model.parameters():\n",
    "                p.data.sub_(eta * p.grad.data)\n",
    "        print(e, sum_loss)\n",
    "        \n",
    "def compute_nb_errors(model, input, target, mini_batch_size):\n",
    "    "
   ]
  }
 ],
 "metadata": {
  "kernelspec": {
   "display_name": "Python 3",
   "language": "python",
   "name": "python3"
  },
  "language_info": {
   "codemirror_mode": {
    "name": "ipython",
    "version": 3
   },
   "file_extension": ".py",
   "mimetype": "text/x-python",
   "name": "python",
   "nbconvert_exporter": "python",
   "pygments_lexer": "ipython3",
   "version": "3.6.5"
  }
 },
 "nbformat": 4,
 "nbformat_minor": 2
}
