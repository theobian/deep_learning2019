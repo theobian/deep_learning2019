{
 "cells": [
  {
   "cell_type": "code",
   "execution_count": null,
   "metadata": {},
   "outputs": [],
   "source": [
    "'''\n",
    "Utils\n",
    "'''\n",
    "import math\n",
    "import torch\n",
    "from torch import FloatTensor\n",
    "from torch import LongTensor\n",
    "import numpy as np\n",
    "import matplotlib.pyplot as plt\n",
    "import time\n"
   ]
  },
  {
   "cell_type": "code",
   "execution_count": null,
   "metadata": {},
   "outputs": [],
   "source": [
    "'''\n",
    "input: number of data points to generate\n",
    "output: binary input and corresponding class according to the following rule: \n",
    "target is 1 if point pair is within circle of radius R = sqrt(1/2pi)\n",
    "''' \n",
    "def data_gen(n):\n",
    "    input = FloatTensor(n, 2).uniform_(0, 1)\n",
    "    target = FloatTensor(n, 2).uniform_(0, 1)\n",
    "    target = input.pow(2).sum(1).sub(1 / (2*math.pi)).sign().add(1).div(2).float()\n",
    "    return input, target"
   ]
  },
  {
   "cell_type": "code",
   "execution_count": null,
   "metadata": {},
   "outputs": [],
   "source": [
    "'''\n",
    "input: input and class to be plotted\n",
    "output: none\n",
    "plots the binary data as two different classes according to their labeled class\n",
    "saves the figure\n",
    "'''\n",
    "def data_plot(input, target):\n",
    "    cmap = []\n",
    "    for i in range(len(target)):\n",
    "        if(target[i]):\n",
    "            cmap.append('green')\n",
    "        else:\n",
    "            cmap.append('red')\n",
    "    fig, ax = plt.subplots()\n",
    "    plt.scatter(input[:,0], input[:,1], s=1,c = cmap)\n",
    "    circle1 = plt.Circle((0,0),np.sqrt(1/(2*math.pi)), color = 'black', fill = False)\n",
    "    plt.gcf().gca().add_artist(circle1)\n",
    "    plt.ylim(0, 1);\n",
    "    plt.xlim(0, 1);\n",
    "    plt.title('Dataset')\n",
    "    plt.show()\n",
    "    fig.savefig('Dataset.png')"
   ]
  },
  {
   "cell_type": "code",
   "execution_count": null,
   "metadata": {},
   "outputs": [],
   "source": [
    "'''\n",
    "input: model to be trained; binary data and corresponding class; loss and optimization criterions for training, learning rate, epochs, and verbose parameter\n",
    "output: total losses for each epoch, and model parameters (weights, biases and corresponding gradients) after the last epoch training\n",
    "this is SGD type update;\n",
    "iteratively calls: the model's forward pass, then the loss's foward pass for a single binary data point and class\n",
    "then adds the running loss to the total loss\n",
    "then set all gradients to zero before computing the model's backward pass for a single binary data point and the loss function's gradient\n",
    "then updates the parameter weights through the optimizer.\n",
    "'''\n",
    "def train(model, train_input, train_target, loss_criterion, optimizer, eta, epochs, verbose):\n",
    "    losses = []\n",
    "    for e in range(epochs):\n",
    "        sum_loss = 0\n",
    "        for s in range(len(train_input)):\n",
    "            output = model.forward(train_input.narrow(0, s, 1))\n",
    "            loss = loss_criterion.forward(output, train_target.narrow(0, s, 1))\n",
    "            sum_loss += loss.item()\n",
    "            model.zero_grad()\n",
    "            grad, grad_err = model.backward(output, loss_criterion.backward(output, train_target.narrow(0, s, 1)))\n",
    "            optimizer.step()\n",
    "        losses.append(sum_loss)\n",
    "        if((e%5 == 0 or e == 0 or e == epochs) and verbose):\n",
    "            print('epoch', e,'loss', sum_loss)\n",
    "    weights = model.param()\n",
    "    return losses, weights"
   ]
  },
  {
   "cell_type": "code",
   "execution_count": null,
   "metadata": {},
   "outputs": [],
   "source": [
    "'''\n",
    "input: model to be trained; binary data and corresponding class; loss criterion for testing, and verbose parameter\n",
    "output: number of misclassified points, coordinates for the vector of misclassified as well as for classified points, and a label vector of the same size as the input data\n",
    "for each sample within the test set: computes the model forward to precict label as a probability of being one class or the other\n",
    "the most likely prediction (index corresponding to the max value of the last layer's output) is compared to the actual label \n",
    "errors, points, and labels that were misclassifed are logged accordingly\n",
    "the l parameter returned makes it easier to keep track of which labels were misclassified\n",
    "'''\n",
    "def eval(model, test_input, test_target, loss_criterion, verbose):\n",
    "    n_errors = 0\n",
    "    cx, cy, ix, iy = [], [], [], []\n",
    "    l = []\n",
    "    for s in range(len(test_input)):\n",
    "        output = model.forward(test_input.narrow(0, s, 1))\n",
    "        t = test_target.narrow(0, s, 1).item()\n",
    "        i = test_input.narrow(0, s, 1)\n",
    "        p = np.argmax(output)\n",
    "        if(t == p):\n",
    "            cx.append(i[0][0].item())\n",
    "            cy.append(i[0][1].item())\n",
    "            l.append(1)\n",
    "        else:\n",
    "            n_errors += 1\n",
    "            ix.append(i[0][0].item())\n",
    "            iy.append(i[0][1].item())\n",
    "            l.append(0)\n",
    "    return n_errors, ix, iy, cx, cy, l"
   ]
  },
  {
   "cell_type": "code",
   "execution_count": null,
   "metadata": {},
   "outputs": [],
   "source": [
    "'''\n",
    "input: incorrectly labeled and correctl labeled point coordinates (for binary data)\n",
    "output: none\n",
    "plots the data points, with two classes -- not according to the true label (which can be determined with the circle boundary)),\n",
    "but according to the classification truth\n",
    "'''\n",
    "def plot_results(ix, iy, cx, cy):\n",
    "    fig, ax = plt.subplots()\n",
    "    plt.scatter(ix, iy, s = 1, c = 'red', label = 'Misclassified')\n",
    "    plt.scatter(cx, cy, s = 1, c = 'green', label = 'Correctly Classified')\n",
    "    boundary = plt.Circle((0,0),np.sqrt(1/(2*math.pi)), color = 'black', fill = False)\n",
    "    plt.gcf().gca().add_artist(boundary)\n",
    "    plt.ylim(-0.01, 1.1);\n",
    "    plt.xlim(-0.01, 1.1);\n",
    "    plt.legend(loc = 1)\n",
    "    plt.title('Results')\n",
    "    plt.show()\n",
    "    fig.savefig('Results.png')"
   ]
  },
  {
   "cell_type": "code",
   "execution_count": null,
   "metadata": {},
   "outputs": [],
   "source": [
    "'''\n",
    "input: text to be outputted, file idenifier for easy saving\n",
    "output: none\n",
    "allows saving model results to csv format file\n",
    "'''\n",
    "def write_to_csv(text, file_id):\n",
    "\n",
    "    with open('Output/test_{}.csv'.format(file_id), mode = 'w') as to_csv:\n",
    "        for i in range(len(text)):\n",
    "            to_csv.write(text[i])\n",
    "            to_csv.write('\\n')"
   ]
  },
  {
   "cell_type": "code",
   "execution_count": null,
   "metadata": {},
   "outputs": [],
   "source": []
  },
  {
   "cell_type": "code",
   "execution_count": null,
   "metadata": {},
   "outputs": [],
   "source": []
  },
  {
   "cell_type": "code",
   "execution_count": null,
   "metadata": {},
   "outputs": [],
   "source": []
  },
  {
   "cell_type": "code",
   "execution_count": null,
   "metadata": {},
   "outputs": [],
   "source": []
  },
  {
   "cell_type": "code",
   "execution_count": null,
   "metadata": {},
   "outputs": [],
   "source": []
  },
  {
   "cell_type": "markdown",
   "metadata": {},
   "source": []
  },
  {
   "cell_type": "code",
   "execution_count": null,
   "metadata": {},
   "outputs": [],
   "source": []
  },
  {
   "cell_type": "code",
   "execution_count": null,
   "metadata": {},
   "outputs": [],
   "source": []
  },
  {
   "cell_type": "code",
   "execution_count": null,
   "metadata": {},
   "outputs": [],
   "source": []
  },
  {
   "cell_type": "code",
   "execution_count": null,
   "metadata": {},
   "outputs": [],
   "source": []
  },
  {
   "cell_type": "code",
   "execution_count": null,
   "metadata": {},
   "outputs": [],
   "source": []
  },
  {
   "cell_type": "code",
   "execution_count": null,
   "metadata": {},
   "outputs": [],
   "source": []
  }
 ],
 "metadata": {
  "kernelspec": {
   "display_name": "Python 3",
   "language": "python",
   "name": "python3"
  },
  "language_info": {
   "codemirror_mode": {
    "name": "ipython",
    "version": 3
   },
   "file_extension": ".py",
   "mimetype": "text/x-python",
   "name": "python",
   "nbconvert_exporter": "python",
   "pygments_lexer": "ipython3",
   "version": "3.7.2"
  }
 },
 "nbformat": 4,
 "nbformat_minor": 2
}
